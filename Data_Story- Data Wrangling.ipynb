{
 "cells": [
  {
   "cell_type": "markdown",
   "metadata": {},
   "source": [
    "## 1. Problem statement\n",
    "\n",
    "**This analysis assumes the following hypothetical scenario **: \n",
    "\n",
    "\"California accounts for 14.5% of the nation’s bicycle riders. A total of 645 people were the casualty of the accidents in San Francisco County in 2014\". Bicyclists above 20 years old represented the large majority of the victims, and, 74% of them being male [1]. In the recent years, there has been a sharp increase in bike accidents with increased fatalities in the Bay area that involves the car, motorcycle, bicycle and pedestrians[2]. The government of the City and County of San Francisco Bay area wants to launch a bike safety campaign, with the promotional slogan-\"Safer Biking Together”. The objective of the campaign is to raise awareness among the bikers, to abide by the safety aspects of the roads to reduce accidents. As part of the campaign, electronic advertisements boards will be used across the city for a part of the day. In order to successfully run a targeted campaign, the right strategy needs to be set so that the largest number of people can be reached. \n",
    "\n",
    "This analysis will explore various aspects of the bike sharing data and some recommendations will be made that will be the basis for the campaign. "
   ]
  },
  {
   "cell_type": "markdown",
   "metadata": {},
   "source": [
    "## Data Source: https://s3.amazonaws.com/fordgobike-data/index.html"
   ]
  },
  {
   "cell_type": "code",
   "execution_count": 1,
   "metadata": {},
   "outputs": [],
   "source": [
    "# import all packages and set plots to be embedded inline\n",
    "import numpy as np\n",
    "import pandas as pd\n",
    "import matplotlib.pyplot as plt\n",
    "import seaborn as sb\n",
    "import datetime as dt\n",
    "import networkx as nx\n",
    "import matplotlib.pyplot as plt"
   ]
  },
  {
   "cell_type": "code",
   "execution_count": 2,
   "metadata": {},
   "outputs": [
    {
     "data": {
      "text/html": [
       "<div>\n",
       "<style scoped>\n",
       "    .dataframe tbody tr th:only-of-type {\n",
       "        vertical-align: middle;\n",
       "    }\n",
       "\n",
       "    .dataframe tbody tr th {\n",
       "        vertical-align: top;\n",
       "    }\n",
       "\n",
       "    .dataframe thead th {\n",
       "        text-align: right;\n",
       "    }\n",
       "</style>\n",
       "<table border=\"1\" class=\"dataframe\">\n",
       "  <thead>\n",
       "    <tr style=\"text-align: right;\">\n",
       "      <th></th>\n",
       "      <th>duration_sec</th>\n",
       "      <th>start_time</th>\n",
       "      <th>end_time</th>\n",
       "      <th>start_station_id</th>\n",
       "      <th>start_station_name</th>\n",
       "      <th>start_station_latitude</th>\n",
       "      <th>start_station_longitude</th>\n",
       "      <th>end_station_id</th>\n",
       "      <th>end_station_name</th>\n",
       "      <th>end_station_latitude</th>\n",
       "      <th>end_station_longitude</th>\n",
       "      <th>bike_id</th>\n",
       "      <th>user_type</th>\n",
       "      <th>member_birth_year</th>\n",
       "      <th>member_gender</th>\n",
       "      <th>bike_share_for_all_trip</th>\n",
       "    </tr>\n",
       "  </thead>\n",
       "  <tbody>\n",
       "    <tr>\n",
       "      <th>0</th>\n",
       "      <td>75284</td>\n",
       "      <td>2018-01-31 22:52:35.2390</td>\n",
       "      <td>2018-02-01 19:47:19.8240</td>\n",
       "      <td>120.0</td>\n",
       "      <td>Mission Dolores Park</td>\n",
       "      <td>37.761420</td>\n",
       "      <td>-122.426435</td>\n",
       "      <td>285.0</td>\n",
       "      <td>Webster St at O'Farrell St</td>\n",
       "      <td>37.783521</td>\n",
       "      <td>-122.431158</td>\n",
       "      <td>2765</td>\n",
       "      <td>Subscriber</td>\n",
       "      <td>1986.0</td>\n",
       "      <td>Male</td>\n",
       "      <td>No</td>\n",
       "    </tr>\n",
       "    <tr>\n",
       "      <th>1</th>\n",
       "      <td>85422</td>\n",
       "      <td>2018-01-31 16:13:34.3510</td>\n",
       "      <td>2018-02-01 15:57:17.3100</td>\n",
       "      <td>15.0</td>\n",
       "      <td>San Francisco Ferry Building (Harry Bridges Pl...</td>\n",
       "      <td>37.795392</td>\n",
       "      <td>-122.394203</td>\n",
       "      <td>15.0</td>\n",
       "      <td>San Francisco Ferry Building (Harry Bridges Pl...</td>\n",
       "      <td>37.795392</td>\n",
       "      <td>-122.394203</td>\n",
       "      <td>2815</td>\n",
       "      <td>Customer</td>\n",
       "      <td>NaN</td>\n",
       "      <td>NaN</td>\n",
       "      <td>No</td>\n",
       "    </tr>\n",
       "    <tr>\n",
       "      <th>2</th>\n",
       "      <td>71576</td>\n",
       "      <td>2018-01-31 14:23:55.8890</td>\n",
       "      <td>2018-02-01 10:16:52.1160</td>\n",
       "      <td>304.0</td>\n",
       "      <td>Jackson St at 5th St</td>\n",
       "      <td>37.348759</td>\n",
       "      <td>-121.894798</td>\n",
       "      <td>296.0</td>\n",
       "      <td>5th St at Virginia St</td>\n",
       "      <td>37.325998</td>\n",
       "      <td>-121.877120</td>\n",
       "      <td>3039</td>\n",
       "      <td>Customer</td>\n",
       "      <td>1996.0</td>\n",
       "      <td>Male</td>\n",
       "      <td>No</td>\n",
       "    </tr>\n",
       "  </tbody>\n",
       "</table>\n",
       "</div>"
      ],
      "text/plain": [
       "   duration_sec                start_time                  end_time  \\\n",
       "0         75284  2018-01-31 22:52:35.2390  2018-02-01 19:47:19.8240   \n",
       "1         85422  2018-01-31 16:13:34.3510  2018-02-01 15:57:17.3100   \n",
       "2         71576  2018-01-31 14:23:55.8890  2018-02-01 10:16:52.1160   \n",
       "\n",
       "   start_station_id                                 start_station_name  \\\n",
       "0             120.0                               Mission Dolores Park   \n",
       "1              15.0  San Francisco Ferry Building (Harry Bridges Pl...   \n",
       "2             304.0                               Jackson St at 5th St   \n",
       "\n",
       "   start_station_latitude  start_station_longitude  end_station_id  \\\n",
       "0               37.761420              -122.426435           285.0   \n",
       "1               37.795392              -122.394203            15.0   \n",
       "2               37.348759              -121.894798           296.0   \n",
       "\n",
       "                                    end_station_name  end_station_latitude  \\\n",
       "0                         Webster St at O'Farrell St             37.783521   \n",
       "1  San Francisco Ferry Building (Harry Bridges Pl...             37.795392   \n",
       "2                              5th St at Virginia St             37.325998   \n",
       "\n",
       "   end_station_longitude  bike_id   user_type  member_birth_year  \\\n",
       "0            -122.431158     2765  Subscriber             1986.0   \n",
       "1            -122.394203     2815    Customer                NaN   \n",
       "2            -121.877120     3039    Customer             1996.0   \n",
       "\n",
       "  member_gender bike_share_for_all_trip  \n",
       "0          Male                      No  \n",
       "1           NaN                      No  \n",
       "2          Male                      No  "
      ]
     },
     "execution_count": 2,
     "metadata": {},
     "output_type": "execute_result"
    }
   ],
   "source": [
    "# load in the dataset into pandas dataframes\n",
    "\n",
    "df_bike_1 = pd.read_csv('C:\\\\Users\\\\raz37388\\\\Desktop\\\\Udacity_assignment\\\\Assignment 4\\\\201801-fordgobike-tripdata.csv')\n",
    "df_bike_2 = pd.read_csv('C:\\\\Users\\\\raz37388\\\\Desktop\\\\Udacity_assignment\\\\Assignment 4\\\\201802-fordgobike-tripdata.csv')\n",
    "df_bike_3 = pd.read_csv('C:\\\\Users\\\\raz37388\\\\Desktop\\\\Udacity_assignment\\\\Assignment 4\\\\201803-fordgobike-tripdata.csv')\n",
    "df_bike_4 = pd.read_csv('C:\\\\Users\\\\raz37388\\\\Desktop\\\\Udacity_assignment\\\\Assignment 4\\\\201804-fordgobike-tripdata.csv')\n",
    "df_bike_5 = pd.read_csv('C:\\\\Users\\\\raz37388\\\\Desktop\\\\Udacity_assignment\\\\Assignment 4\\\\201805-fordgobike-tripdata.csv')\n",
    "df_bike_6 = pd.read_csv('C:\\\\Users\\\\raz37388\\\\Desktop\\\\Udacity_assignment\\\\Assignment 4\\\\201806-fordgobike-tripdata.csv')\n",
    "df_bike_7 = pd.read_csv('C:\\\\Users\\\\raz37388\\\\Desktop\\\\Udacity_assignment\\\\Assignment 4\\\\201807-fordgobike-tripdata.csv')\n",
    "df_bike_8 = pd.read_csv('C:\\\\Users\\\\raz37388\\\\Desktop\\\\Udacity_assignment\\\\Assignment 4\\\\201808-fordgobike-tripdata.csv')\n",
    "df_bike_9 = pd.read_csv('C:\\\\Users\\\\raz37388\\\\Desktop\\\\Udacity_assignment\\\\Assignment 4\\\\201809-fordgobike-tripdata.csv')\n",
    "df_bike_10 = pd.read_csv('C:\\\\Users\\\\raz37388\\\\Desktop\\\\Udacity_assignment\\\\Assignment 4\\\\201810-fordgobike-tripdata.csv')\n",
    "\n",
    "# combinning the datasets\n",
    "df_2018 = pd.concat([df_bike_1,df_bike_2, df_bike_3,df_bike_4, df_bike_5, df_bike_6, df_bike_7, df_bike_8, df_bike_9, df_bike_10])\n",
    "\n",
    "# show first three rows\n",
    "df_2018.head(3)"
   ]
  },
  {
   "cell_type": "code",
   "execution_count": 3,
   "metadata": {},
   "outputs": [
    {
     "name": "stdout",
     "output_type": "stream",
     "text": [
      "<class 'pandas.core.frame.DataFrame'>\n",
      "Int64Index: 1598223 entries, 0 to 201457\n",
      "Data columns (total 16 columns):\n",
      "duration_sec               1598223 non-null int64\n",
      "start_time                 1598223 non-null object\n",
      "end_time                   1598223 non-null object\n",
      "start_station_id           1587128 non-null float64\n",
      "start_station_name         1587128 non-null object\n",
      "start_station_latitude     1598223 non-null float64\n",
      "start_station_longitude    1598223 non-null float64\n",
      "end_station_id             1587128 non-null float64\n",
      "end_station_name           1587128 non-null object\n",
      "end_station_latitude       1598223 non-null float64\n",
      "end_station_longitude      1598223 non-null float64\n",
      "bike_id                    1598223 non-null int64\n",
      "user_type                  1598223 non-null object\n",
      "member_birth_year          1497614 non-null float64\n",
      "member_gender              1497965 non-null object\n",
      "bike_share_for_all_trip    1598223 non-null object\n",
      "dtypes: float64(7), int64(2), object(7)\n",
      "memory usage: 207.3+ MB\n"
     ]
    }
   ],
   "source": [
    "# Columns of the dataset and data type \n",
    "df_2018.info()"
   ]
  },
  {
   "cell_type": "markdown",
   "metadata": {},
   "source": [
    "**1. Note: The start_time and end_time is in string format. For analyzing time, we need to convert it into datetime format.**"
   ]
  },
  {
   "cell_type": "code",
   "execution_count": 4,
   "metadata": {},
   "outputs": [],
   "source": [
    "#converting the start and end time into date time format\n",
    "df_2018['start_time']= pd.to_datetime(df_2018.start_time)\n",
    "df_2018['end_time']= pd.to_datetime(df_2018.end_time)\n",
    "\n",
    "# Creating the month category- will return the month of the year\n",
    "df_2018['month'] = df_2018['start_time'].dt.strftime('%b')"
   ]
  },
  {
   "cell_type": "code",
   "execution_count": 5,
   "metadata": {},
   "outputs": [
    {
     "data": {
      "text/plain": [
       "array(['Jan', 'Feb', 'Mar', 'Apr', 'May', 'Jun', 'Jul', 'Aug', 'Sep',\n",
       "       'Oct'], dtype=object)"
      ]
     },
     "execution_count": 5,
     "metadata": {},
     "output_type": "execute_result"
    }
   ],
   "source": [
    "# Show the months of 2018 dataset\n",
    "df_2018.month.unique()"
   ]
  },
  {
   "cell_type": "markdown",
   "metadata": {},
   "source": [
    "**2. Note: In the 2018 dataset, the data for the month of November and December is missing. To get the dataset for the whole year, we will combine the 2018 dataset with the November and December data of the year 2017.**"
   ]
  },
  {
   "cell_type": "code",
   "execution_count": 6,
   "metadata": {},
   "outputs": [],
   "source": [
    "#reading the 2017 data\n",
    "df_2017 = df_bike_10 = pd.read_csv('C:\\\\Users\\\\raz37388\\\\Desktop\\\\Udacity_assignment\\\\Assignment 4\\\\2017-fordgobike-tripdata.csv')"
   ]
  },
  {
   "cell_type": "code",
   "execution_count": 7,
   "metadata": {},
   "outputs": [
    {
     "data": {
      "text/html": [
       "<div>\n",
       "<style scoped>\n",
       "    .dataframe tbody tr th:only-of-type {\n",
       "        vertical-align: middle;\n",
       "    }\n",
       "\n",
       "    .dataframe tbody tr th {\n",
       "        vertical-align: top;\n",
       "    }\n",
       "\n",
       "    .dataframe thead th {\n",
       "        text-align: right;\n",
       "    }\n",
       "</style>\n",
       "<table border=\"1\" class=\"dataframe\">\n",
       "  <thead>\n",
       "    <tr style=\"text-align: right;\">\n",
       "      <th></th>\n",
       "      <th>duration_sec</th>\n",
       "      <th>start_time</th>\n",
       "      <th>end_time</th>\n",
       "      <th>start_station_id</th>\n",
       "      <th>start_station_name</th>\n",
       "      <th>start_station_latitude</th>\n",
       "      <th>start_station_longitude</th>\n",
       "      <th>end_station_id</th>\n",
       "      <th>end_station_name</th>\n",
       "      <th>end_station_latitude</th>\n",
       "      <th>end_station_longitude</th>\n",
       "      <th>bike_id</th>\n",
       "      <th>user_type</th>\n",
       "      <th>member_birth_year</th>\n",
       "      <th>member_gender</th>\n",
       "    </tr>\n",
       "  </thead>\n",
       "  <tbody>\n",
       "    <tr>\n",
       "      <th>0</th>\n",
       "      <td>80110</td>\n",
       "      <td>2017-12-31 16:57:39.6540</td>\n",
       "      <td>2018-01-01 15:12:50.2450</td>\n",
       "      <td>74</td>\n",
       "      <td>Laguna St at Hayes St</td>\n",
       "      <td>37.776435</td>\n",
       "      <td>-122.426244</td>\n",
       "      <td>43</td>\n",
       "      <td>San Francisco Public Library (Grove St at Hyde...</td>\n",
       "      <td>37.778768</td>\n",
       "      <td>-122.415929</td>\n",
       "      <td>96</td>\n",
       "      <td>Customer</td>\n",
       "      <td>1987.0</td>\n",
       "      <td>Male</td>\n",
       "    </tr>\n",
       "    <tr>\n",
       "      <th>1</th>\n",
       "      <td>78800</td>\n",
       "      <td>2017-12-31 15:56:34.8420</td>\n",
       "      <td>2018-01-01 13:49:55.6170</td>\n",
       "      <td>284</td>\n",
       "      <td>Yerba Buena Center for the Arts (Howard St at ...</td>\n",
       "      <td>37.784872</td>\n",
       "      <td>-122.400876</td>\n",
       "      <td>96</td>\n",
       "      <td>Dolores St at 15th St</td>\n",
       "      <td>37.766210</td>\n",
       "      <td>-122.426614</td>\n",
       "      <td>88</td>\n",
       "      <td>Customer</td>\n",
       "      <td>1965.0</td>\n",
       "      <td>Female</td>\n",
       "    </tr>\n",
       "    <tr>\n",
       "      <th>2</th>\n",
       "      <td>45768</td>\n",
       "      <td>2017-12-31 22:45:48.4110</td>\n",
       "      <td>2018-01-01 11:28:36.8830</td>\n",
       "      <td>245</td>\n",
       "      <td>Downtown Berkeley BART</td>\n",
       "      <td>37.870348</td>\n",
       "      <td>-122.267764</td>\n",
       "      <td>245</td>\n",
       "      <td>Downtown Berkeley BART</td>\n",
       "      <td>37.870348</td>\n",
       "      <td>-122.267764</td>\n",
       "      <td>1094</td>\n",
       "      <td>Customer</td>\n",
       "      <td>NaN</td>\n",
       "      <td>NaN</td>\n",
       "    </tr>\n",
       "  </tbody>\n",
       "</table>\n",
       "</div>"
      ],
      "text/plain": [
       "   duration_sec                start_time                  end_time  \\\n",
       "0         80110  2017-12-31 16:57:39.6540  2018-01-01 15:12:50.2450   \n",
       "1         78800  2017-12-31 15:56:34.8420  2018-01-01 13:49:55.6170   \n",
       "2         45768  2017-12-31 22:45:48.4110  2018-01-01 11:28:36.8830   \n",
       "\n",
       "   start_station_id                                 start_station_name  \\\n",
       "0                74                              Laguna St at Hayes St   \n",
       "1               284  Yerba Buena Center for the Arts (Howard St at ...   \n",
       "2               245                             Downtown Berkeley BART   \n",
       "\n",
       "   start_station_latitude  start_station_longitude  end_station_id  \\\n",
       "0               37.776435              -122.426244              43   \n",
       "1               37.784872              -122.400876              96   \n",
       "2               37.870348              -122.267764             245   \n",
       "\n",
       "                                    end_station_name  end_station_latitude  \\\n",
       "0  San Francisco Public Library (Grove St at Hyde...             37.778768   \n",
       "1                              Dolores St at 15th St             37.766210   \n",
       "2                             Downtown Berkeley BART             37.870348   \n",
       "\n",
       "   end_station_longitude  bike_id user_type  member_birth_year member_gender  \n",
       "0            -122.415929       96  Customer             1987.0          Male  \n",
       "1            -122.426614       88  Customer             1965.0        Female  \n",
       "2            -122.267764     1094  Customer                NaN           NaN  "
      ]
     },
     "execution_count": 7,
     "metadata": {},
     "output_type": "execute_result"
    }
   ],
   "source": [
    "#See first three columns\n",
    "df_2017.head(3)"
   ]
  },
  {
   "cell_type": "code",
   "execution_count": 8,
   "metadata": {},
   "outputs": [
    {
     "name": "stdout",
     "output_type": "stream",
     "text": [
      "<class 'pandas.core.frame.DataFrame'>\n",
      "RangeIndex: 519700 entries, 0 to 519699\n",
      "Data columns (total 15 columns):\n",
      "duration_sec               519700 non-null int64\n",
      "start_time                 519700 non-null object\n",
      "end_time                   519700 non-null object\n",
      "start_station_id           519700 non-null int64\n",
      "start_station_name         519700 non-null object\n",
      "start_station_latitude     519700 non-null float64\n",
      "start_station_longitude    519700 non-null float64\n",
      "end_station_id             519700 non-null int64\n",
      "end_station_name           519700 non-null object\n",
      "end_station_latitude       519700 non-null float64\n",
      "end_station_longitude      519700 non-null float64\n",
      "bike_id                    519700 non-null int64\n",
      "user_type                  519700 non-null object\n",
      "member_birth_year          453159 non-null float64\n",
      "member_gender              453238 non-null object\n",
      "dtypes: float64(5), int64(4), object(6)\n",
      "memory usage: 59.5+ MB\n"
     ]
    }
   ],
   "source": [
    "#Columns and datatype of the dataset\n",
    "df_2017.info()"
   ]
  },
  {
   "cell_type": "markdown",
   "metadata": {},
   "source": [
    "**3.Note: In the 2017 dataset, the time data is not in the datetime format which needs to be converted.** "
   ]
  },
  {
   "cell_type": "code",
   "execution_count": 9,
   "metadata": {},
   "outputs": [],
   "source": [
    "#converting the start and end time into date time format\n",
    "df_2017['start_time']= pd.to_datetime(df_2017.start_time)\n",
    "df_2017['end_time']= pd.to_datetime(df_2017.end_time)\n",
    "\n",
    "# Creating the month category- will return the month of the 2017\n",
    "df_2017['month'] = df_2017['start_time'].dt.strftime('%b')"
   ]
  },
  {
   "cell_type": "code",
   "execution_count": 10,
   "metadata": {},
   "outputs": [
    {
     "data": {
      "text/html": [
       "<div>\n",
       "<style scoped>\n",
       "    .dataframe tbody tr th:only-of-type {\n",
       "        vertical-align: middle;\n",
       "    }\n",
       "\n",
       "    .dataframe tbody tr th {\n",
       "        vertical-align: top;\n",
       "    }\n",
       "\n",
       "    .dataframe thead th {\n",
       "        text-align: right;\n",
       "    }\n",
       "</style>\n",
       "<table border=\"1\" class=\"dataframe\">\n",
       "  <thead>\n",
       "    <tr style=\"text-align: right;\">\n",
       "      <th></th>\n",
       "      <th>duration_sec</th>\n",
       "      <th>start_time</th>\n",
       "      <th>end_time</th>\n",
       "      <th>start_station_id</th>\n",
       "      <th>start_station_name</th>\n",
       "      <th>start_station_latitude</th>\n",
       "      <th>start_station_longitude</th>\n",
       "      <th>end_station_id</th>\n",
       "      <th>end_station_name</th>\n",
       "      <th>end_station_latitude</th>\n",
       "      <th>end_station_longitude</th>\n",
       "      <th>bike_id</th>\n",
       "      <th>user_type</th>\n",
       "      <th>member_birth_year</th>\n",
       "      <th>member_gender</th>\n",
       "      <th>month</th>\n",
       "    </tr>\n",
       "  </thead>\n",
       "  <tbody>\n",
       "    <tr>\n",
       "      <th>519697</th>\n",
       "      <td>424</td>\n",
       "      <td>2017-06-28 09:47:36.347</td>\n",
       "      <td>2017-06-28 09:54:41.187</td>\n",
       "      <td>21</td>\n",
       "      <td>Montgomery St BART Station (Market St at 2nd St)</td>\n",
       "      <td>37.789625</td>\n",
       "      <td>-122.400811</td>\n",
       "      <td>48</td>\n",
       "      <td>2nd St at S Park St</td>\n",
       "      <td>37.782411</td>\n",
       "      <td>-122.392706</td>\n",
       "      <td>240</td>\n",
       "      <td>Subscriber</td>\n",
       "      <td>1985.0</td>\n",
       "      <td>Female</td>\n",
       "      <td>Jun</td>\n",
       "    </tr>\n",
       "    <tr>\n",
       "      <th>519698</th>\n",
       "      <td>366</td>\n",
       "      <td>2017-06-28 09:47:41.664</td>\n",
       "      <td>2017-06-28 09:53:47.715</td>\n",
       "      <td>58</td>\n",
       "      <td>Market St at 10th St</td>\n",
       "      <td>37.776619</td>\n",
       "      <td>-122.417385</td>\n",
       "      <td>59</td>\n",
       "      <td>S Van Ness Ave at Market St</td>\n",
       "      <td>37.774814</td>\n",
       "      <td>-122.418954</td>\n",
       "      <td>669</td>\n",
       "      <td>Subscriber</td>\n",
       "      <td>1981.0</td>\n",
       "      <td>Male</td>\n",
       "      <td>Jun</td>\n",
       "    </tr>\n",
       "    <tr>\n",
       "      <th>519699</th>\n",
       "      <td>188</td>\n",
       "      <td>2017-06-28 09:49:46.377</td>\n",
       "      <td>2017-06-28 09:52:55.338</td>\n",
       "      <td>25</td>\n",
       "      <td>Howard St at 2nd St</td>\n",
       "      <td>37.787522</td>\n",
       "      <td>-122.397405</td>\n",
       "      <td>48</td>\n",
       "      <td>2nd St at S Park St</td>\n",
       "      <td>37.782411</td>\n",
       "      <td>-122.392706</td>\n",
       "      <td>117</td>\n",
       "      <td>Subscriber</td>\n",
       "      <td>1984.0</td>\n",
       "      <td>Male</td>\n",
       "      <td>Jun</td>\n",
       "    </tr>\n",
       "  </tbody>\n",
       "</table>\n",
       "</div>"
      ],
      "text/plain": [
       "        duration_sec              start_time                end_time  \\\n",
       "519697           424 2017-06-28 09:47:36.347 2017-06-28 09:54:41.187   \n",
       "519698           366 2017-06-28 09:47:41.664 2017-06-28 09:53:47.715   \n",
       "519699           188 2017-06-28 09:49:46.377 2017-06-28 09:52:55.338   \n",
       "\n",
       "        start_station_id                                start_station_name  \\\n",
       "519697                21  Montgomery St BART Station (Market St at 2nd St)   \n",
       "519698                58                              Market St at 10th St   \n",
       "519699                25                               Howard St at 2nd St   \n",
       "\n",
       "        start_station_latitude  start_station_longitude  end_station_id  \\\n",
       "519697               37.789625              -122.400811              48   \n",
       "519698               37.776619              -122.417385              59   \n",
       "519699               37.787522              -122.397405              48   \n",
       "\n",
       "                   end_station_name  end_station_latitude  \\\n",
       "519697          2nd St at S Park St             37.782411   \n",
       "519698  S Van Ness Ave at Market St             37.774814   \n",
       "519699          2nd St at S Park St             37.782411   \n",
       "\n",
       "        end_station_longitude  bike_id   user_type  member_birth_year  \\\n",
       "519697            -122.392706      240  Subscriber             1985.0   \n",
       "519698            -122.418954      669  Subscriber             1981.0   \n",
       "519699            -122.392706      117  Subscriber             1984.0   \n",
       "\n",
       "       member_gender month  \n",
       "519697        Female   Jun  \n",
       "519698          Male   Jun  \n",
       "519699          Male   Jun  "
      ]
     },
     "execution_count": 10,
     "metadata": {},
     "output_type": "execute_result"
    }
   ],
   "source": [
    "# See the last three rows \n",
    "df_2017.tail(3)"
   ]
  },
  {
   "cell_type": "code",
   "execution_count": 11,
   "metadata": {},
   "outputs": [
    {
     "data": {
      "text/plain": [
       "(519700, 16)"
      ]
     },
     "execution_count": 11,
     "metadata": {},
     "output_type": "execute_result"
    }
   ],
   "source": [
    "# See the number of rows and columns of the dataset\n",
    "df_2017.shape"
   ]
  },
  {
   "cell_type": "code",
   "execution_count": 12,
   "metadata": {},
   "outputs": [
    {
     "data": {
      "text/plain": [
       "array(['Dec', 'Nov', 'Oct', 'Sep', 'Aug', 'Jul', 'Jun'], dtype=object)"
      ]
     },
     "execution_count": 12,
     "metadata": {},
     "output_type": "execute_result"
    }
   ],
   "source": [
    "#Months of 2017\n",
    "df_2017.month.unique()"
   ]
  },
  {
   "cell_type": "code",
   "execution_count": 13,
   "metadata": {},
   "outputs": [],
   "source": [
    "#Extracting Nov and Dec of 2017\n",
    "df_2017_nov = df_2017.query('month == \"Nov\"')\n",
    "df_2017_dec = df_2017.query('month == \"Dec\"')"
   ]
  },
  {
   "cell_type": "markdown",
   "metadata": {},
   "source": [
    "**4.Note**: **Since we are not sure whether bike sharing contributes to accident and the 2017 does not contain bike sharing information we will drop the bike sharing informaiton from the 2018 data for convenience.** "
   ]
  },
  {
   "cell_type": "code",
   "execution_count": 14,
   "metadata": {},
   "outputs": [],
   "source": [
    "# Getting rid of the bike sharing information as this is not something very interesting for our analysis\n",
    "df_2018 = df_2018.drop(['bike_share_for_all_trip'], axis=1)"
   ]
  },
  {
   "cell_type": "code",
   "execution_count": 15,
   "metadata": {},
   "outputs": [],
   "source": [
    "#combine the 2017 November December data to obtain a dataset for the whole year for the SanFrancisso bay area\n",
    "df = pd.concat([df_2018,df_2017_nov, df_2017_dec])"
   ]
  },
  {
   "cell_type": "code",
   "execution_count": 16,
   "metadata": {},
   "outputs": [
    {
     "data": {
      "text/plain": [
       "array(['Jan', 'Feb', 'Mar', 'Apr', 'May', 'Jun', 'Jul', 'Aug', 'Sep',\n",
       "       'Oct', 'Nov', 'Dec'], dtype=object)"
      ]
     },
     "execution_count": 16,
     "metadata": {},
     "output_type": "execute_result"
    }
   ],
   "source": [
    "#checking if the data set contains all the 12 months\n",
    "df.month.unique()"
   ]
  },
  {
   "cell_type": "code",
   "execution_count": 17,
   "metadata": {},
   "outputs": [
    {
     "data": {
      "text/plain": [
       "array(['Jan', 'Feb', 'Mar', 'Apr', 'May', 'Jun', 'Jul', 'Aug', 'Sep',\n",
       "       'Oct', 'Nov', 'Dec'], dtype=object)"
      ]
     },
     "execution_count": 17,
     "metadata": {},
     "output_type": "execute_result"
    }
   ],
   "source": [
    "#checking if the 2017 data has the bike_share information- should return Nan if the information is not available\n",
    "df.month.unique()"
   ]
  },
  {
   "cell_type": "code",
   "execution_count": 18,
   "metadata": {},
   "outputs": [
    {
     "data": {
      "text/plain": [
       "83695    Nov\n",
       "84835    Nov\n",
       "86540    Nov\n",
       "Name: month, dtype: object"
      ]
     },
     "execution_count": 18,
     "metadata": {},
     "output_type": "execute_result"
    }
   ],
   "source": [
    "#checking if the Nov data is in the dataframe- she first three rows\n",
    "df.query(\"month=='Nov'\").month.head(3)"
   ]
  },
  {
   "cell_type": "code",
   "execution_count": 19,
   "metadata": {},
   "outputs": [
    {
     "data": {
      "text/plain": [
       "0    Dec\n",
       "1    Dec\n",
       "2    Dec\n",
       "Name: month, dtype: object"
      ]
     },
     "execution_count": 19,
     "metadata": {},
     "output_type": "execute_result"
    }
   ],
   "source": [
    "#checking if the Dec data is in the dataframe- she first three rows\n",
    "df.query(\"month=='Dec'\").month.head(3)"
   ]
  },
  {
   "cell_type": "code",
   "execution_count": 20,
   "metadata": {},
   "outputs": [
    {
     "name": "stdout",
     "output_type": "stream",
     "text": [
      "<class 'pandas.core.frame.DataFrame'>\n",
      "Int64Index: 1780374 entries, 0 to 86546\n",
      "Data columns (total 16 columns):\n",
      "duration_sec               int64\n",
      "start_time                 datetime64[ns]\n",
      "end_time                   datetime64[ns]\n",
      "start_station_id           float64\n",
      "start_station_name         object\n",
      "start_station_latitude     float64\n",
      "start_station_longitude    float64\n",
      "end_station_id             float64\n",
      "end_station_name           object\n",
      "end_station_latitude       float64\n",
      "end_station_longitude      float64\n",
      "bike_id                    int64\n",
      "user_type                  object\n",
      "member_birth_year          float64\n",
      "member_gender              object\n",
      "month                      object\n",
      "dtypes: datetime64[ns](2), float64(7), int64(2), object(5)\n",
      "memory usage: 230.9+ MB\n"
     ]
    }
   ],
   "source": [
    "# Columns and data type of the merged dataset\n",
    "df.info()"
   ]
  },
  {
   "cell_type": "code",
   "execution_count": 21,
   "metadata": {},
   "outputs": [
    {
     "data": {
      "text/plain": [
       "(1780374, 16)"
      ]
     },
     "execution_count": 21,
     "metadata": {},
     "output_type": "execute_result"
    }
   ],
   "source": [
    "# structure of the dataset\n",
    "df.shape"
   ]
  },
  {
   "cell_type": "code",
   "execution_count": 22,
   "metadata": {},
   "outputs": [
    {
     "data": {
      "text/html": [
       "<div>\n",
       "<style scoped>\n",
       "    .dataframe tbody tr th:only-of-type {\n",
       "        vertical-align: middle;\n",
       "    }\n",
       "\n",
       "    .dataframe tbody tr th {\n",
       "        vertical-align: top;\n",
       "    }\n",
       "\n",
       "    .dataframe thead th {\n",
       "        text-align: right;\n",
       "    }\n",
       "</style>\n",
       "<table border=\"1\" class=\"dataframe\">\n",
       "  <thead>\n",
       "    <tr style=\"text-align: right;\">\n",
       "      <th></th>\n",
       "      <th>duration_sec</th>\n",
       "      <th>start_time</th>\n",
       "      <th>end_time</th>\n",
       "      <th>start_station_id</th>\n",
       "      <th>start_station_name</th>\n",
       "      <th>start_station_latitude</th>\n",
       "      <th>start_station_longitude</th>\n",
       "      <th>end_station_id</th>\n",
       "      <th>end_station_name</th>\n",
       "      <th>end_station_latitude</th>\n",
       "      <th>end_station_longitude</th>\n",
       "      <th>bike_id</th>\n",
       "      <th>user_type</th>\n",
       "      <th>member_birth_year</th>\n",
       "      <th>member_gender</th>\n",
       "      <th>month</th>\n",
       "    </tr>\n",
       "  </thead>\n",
       "  <tbody>\n",
       "  </tbody>\n",
       "</table>\n",
       "</div>"
      ],
      "text/plain": [
       "Empty DataFrame\n",
       "Columns: [duration_sec, start_time, end_time, start_station_id, start_station_name, start_station_latitude, start_station_longitude, end_station_id, end_station_name, end_station_latitude, end_station_longitude, bike_id, user_type, member_birth_year, member_gender, month]\n",
       "Index: []"
      ]
     },
     "execution_count": 22,
     "metadata": {},
     "output_type": "execute_result"
    }
   ],
   "source": [
    "#Find duplicates in the dataset\n",
    "df[df.duplicated()]"
   ]
  },
  {
   "cell_type": "code",
   "execution_count": 23,
   "metadata": {},
   "outputs": [
    {
     "data": {
      "text/plain": [
       "False"
      ]
     },
     "execution_count": 23,
     "metadata": {},
     "output_type": "execute_result"
    }
   ],
   "source": [
    "#Find duplicates -should return False since there is no duplicate\n",
    "df.duplicated().any()"
   ]
  },
  {
   "cell_type": "code",
   "execution_count": 24,
   "metadata": {},
   "outputs": [
    {
     "data": {
      "text/plain": [
       "duration_sec                    0\n",
       "start_time                      0\n",
       "end_time                        0\n",
       "start_station_id            11095\n",
       "start_station_name          11095\n",
       "start_station_latitude          0\n",
       "start_station_longitude         0\n",
       "end_station_id              11095\n",
       "end_station_name            11095\n",
       "end_station_latitude            0\n",
       "end_station_longitude           0\n",
       "bike_id                         0\n",
       "user_type                       0\n",
       "member_birth_year          118434\n",
       "member_gender              118024\n",
       "month                           0\n",
       "dtype: int64"
      ]
     },
     "execution_count": 24,
     "metadata": {},
     "output_type": "execute_result"
    }
   ],
   "source": [
    "#Finding the null values\n",
    "df.isnull().sum()"
   ]
  },
  {
   "cell_type": "code",
   "execution_count": 25,
   "metadata": {},
   "outputs": [],
   "source": [
    "#drop the null values\n",
    "df.dropna(inplace=True)"
   ]
  },
  {
   "cell_type": "code",
   "execution_count": 26,
   "metadata": {},
   "outputs": [
    {
     "data": {
      "text/plain": [
       "duration_sec               0\n",
       "start_time                 0\n",
       "end_time                   0\n",
       "start_station_id           0\n",
       "start_station_name         0\n",
       "start_station_latitude     0\n",
       "start_station_longitude    0\n",
       "end_station_id             0\n",
       "end_station_name           0\n",
       "end_station_latitude       0\n",
       "end_station_longitude      0\n",
       "bike_id                    0\n",
       "user_type                  0\n",
       "member_birth_year          0\n",
       "member_gender              0\n",
       "month                      0\n",
       "dtype: int64"
      ]
     },
     "execution_count": 26,
     "metadata": {},
     "output_type": "execute_result"
    }
   ],
   "source": [
    "#Checking is there are any other Null value- should return 0 for all the feature\n",
    "df.isnull().sum()"
   ]
  },
  {
   "cell_type": "code",
   "execution_count": 27,
   "metadata": {},
   "outputs": [
    {
     "data": {
      "text/plain": [
       "(1651156, 16)"
      ]
     },
     "execution_count": 27,
     "metadata": {},
     "output_type": "execute_result"
    }
   ],
   "source": [
    "#Shape of the dataset\n",
    "df.shape"
   ]
  },
  {
   "cell_type": "code",
   "execution_count": 28,
   "metadata": {},
   "outputs": [
    {
     "data": {
      "text/html": [
       "<div>\n",
       "<style scoped>\n",
       "    .dataframe tbody tr th:only-of-type {\n",
       "        vertical-align: middle;\n",
       "    }\n",
       "\n",
       "    .dataframe tbody tr th {\n",
       "        vertical-align: top;\n",
       "    }\n",
       "\n",
       "    .dataframe thead th {\n",
       "        text-align: right;\n",
       "    }\n",
       "</style>\n",
       "<table border=\"1\" class=\"dataframe\">\n",
       "  <thead>\n",
       "    <tr style=\"text-align: right;\">\n",
       "      <th></th>\n",
       "      <th>duration_sec</th>\n",
       "      <th>start_time</th>\n",
       "      <th>end_time</th>\n",
       "      <th>start_station_id</th>\n",
       "      <th>start_station_name</th>\n",
       "      <th>start_station_latitude</th>\n",
       "      <th>start_station_longitude</th>\n",
       "      <th>end_station_id</th>\n",
       "      <th>end_station_name</th>\n",
       "      <th>end_station_latitude</th>\n",
       "      <th>end_station_longitude</th>\n",
       "      <th>bike_id</th>\n",
       "      <th>user_type</th>\n",
       "      <th>member_birth_year</th>\n",
       "      <th>member_gender</th>\n",
       "      <th>month</th>\n",
       "    </tr>\n",
       "  </thead>\n",
       "  <tbody>\n",
       "    <tr>\n",
       "      <th>0</th>\n",
       "      <td>75284</td>\n",
       "      <td>2018-01-31 22:52:35.239</td>\n",
       "      <td>2018-02-01 19:47:19.824</td>\n",
       "      <td>120.0</td>\n",
       "      <td>Mission Dolores Park</td>\n",
       "      <td>37.761420</td>\n",
       "      <td>-122.426435</td>\n",
       "      <td>285.0</td>\n",
       "      <td>Webster St at O'Farrell St</td>\n",
       "      <td>37.783521</td>\n",
       "      <td>-122.431158</td>\n",
       "      <td>2765</td>\n",
       "      <td>Subscriber</td>\n",
       "      <td>1986.0</td>\n",
       "      <td>Male</td>\n",
       "      <td>Jan</td>\n",
       "    </tr>\n",
       "    <tr>\n",
       "      <th>2</th>\n",
       "      <td>71576</td>\n",
       "      <td>2018-01-31 14:23:55.889</td>\n",
       "      <td>2018-02-01 10:16:52.116</td>\n",
       "      <td>304.0</td>\n",
       "      <td>Jackson St at 5th St</td>\n",
       "      <td>37.348759</td>\n",
       "      <td>-121.894798</td>\n",
       "      <td>296.0</td>\n",
       "      <td>5th St at Virginia St</td>\n",
       "      <td>37.325998</td>\n",
       "      <td>-121.877120</td>\n",
       "      <td>3039</td>\n",
       "      <td>Customer</td>\n",
       "      <td>1996.0</td>\n",
       "      <td>Male</td>\n",
       "      <td>Jan</td>\n",
       "    </tr>\n",
       "    <tr>\n",
       "      <th>4</th>\n",
       "      <td>39966</td>\n",
       "      <td>2018-01-31 19:52:24.667</td>\n",
       "      <td>2018-02-01 06:58:31.053</td>\n",
       "      <td>74.0</td>\n",
       "      <td>Laguna St at Hayes St</td>\n",
       "      <td>37.776435</td>\n",
       "      <td>-122.426244</td>\n",
       "      <td>19.0</td>\n",
       "      <td>Post St at Kearny St</td>\n",
       "      <td>37.788975</td>\n",
       "      <td>-122.403452</td>\n",
       "      <td>617</td>\n",
       "      <td>Subscriber</td>\n",
       "      <td>1991.0</td>\n",
       "      <td>Male</td>\n",
       "      <td>Jan</td>\n",
       "    </tr>\n",
       "  </tbody>\n",
       "</table>\n",
       "</div>"
      ],
      "text/plain": [
       "   duration_sec              start_time                end_time  \\\n",
       "0         75284 2018-01-31 22:52:35.239 2018-02-01 19:47:19.824   \n",
       "2         71576 2018-01-31 14:23:55.889 2018-02-01 10:16:52.116   \n",
       "4         39966 2018-01-31 19:52:24.667 2018-02-01 06:58:31.053   \n",
       "\n",
       "   start_station_id     start_station_name  start_station_latitude  \\\n",
       "0             120.0   Mission Dolores Park               37.761420   \n",
       "2             304.0   Jackson St at 5th St               37.348759   \n",
       "4              74.0  Laguna St at Hayes St               37.776435   \n",
       "\n",
       "   start_station_longitude  end_station_id            end_station_name  \\\n",
       "0              -122.426435           285.0  Webster St at O'Farrell St   \n",
       "2              -121.894798           296.0       5th St at Virginia St   \n",
       "4              -122.426244            19.0        Post St at Kearny St   \n",
       "\n",
       "   end_station_latitude  end_station_longitude  bike_id   user_type  \\\n",
       "0             37.783521            -122.431158     2765  Subscriber   \n",
       "2             37.325998            -121.877120     3039    Customer   \n",
       "4             37.788975            -122.403452      617  Subscriber   \n",
       "\n",
       "   member_birth_year member_gender month  \n",
       "0             1986.0          Male   Jan  \n",
       "2             1996.0          Male   Jan  \n",
       "4             1991.0          Male   Jan  "
      ]
     },
     "execution_count": 28,
     "metadata": {},
     "output_type": "execute_result"
    }
   ],
   "source": [
    "#Show first three rows\n",
    "df.head(3)"
   ]
  },
  {
   "cell_type": "code",
   "execution_count": 29,
   "metadata": {},
   "outputs": [],
   "source": [
    "# Extracting Day from the start-time\n",
    "df['day'] = df['start_time'].dt.strftime('%a')\n",
    "\n",
    "# finding the year from the start date\n",
    "df['year'] = df['start_time'].dt.year\n",
    "\n",
    "#finding starting month number- will return a value from 0-12\n",
    "df['str_month_no'] = df['start_time'].dt.strftime('%m').astype(int)\n",
    "\n",
    "#extracting hour- will return a value from 0 to 23 \n",
    "df['start_hour'] = df['start_time'].dt.hour.astype(int)\n",
    "df['end_hour'] = df['end_time'].dt.hour.astype(int)\n",
    "\n",
    "#convert the duraiton of the journey in minute\n",
    "df['duration_min'] = df['duration_sec']/60"
   ]
  },
  {
   "cell_type": "code",
   "execution_count": 30,
   "metadata": {},
   "outputs": [
    {
     "data": {
      "text/html": [
       "<div>\n",
       "<style scoped>\n",
       "    .dataframe tbody tr th:only-of-type {\n",
       "        vertical-align: middle;\n",
       "    }\n",
       "\n",
       "    .dataframe tbody tr th {\n",
       "        vertical-align: top;\n",
       "    }\n",
       "\n",
       "    .dataframe thead th {\n",
       "        text-align: right;\n",
       "    }\n",
       "</style>\n",
       "<table border=\"1\" class=\"dataframe\">\n",
       "  <thead>\n",
       "    <tr style=\"text-align: right;\">\n",
       "      <th></th>\n",
       "      <th>duration_sec</th>\n",
       "      <th>start_time</th>\n",
       "      <th>end_time</th>\n",
       "      <th>start_station_id</th>\n",
       "      <th>start_station_name</th>\n",
       "      <th>start_station_latitude</th>\n",
       "      <th>start_station_longitude</th>\n",
       "      <th>end_station_id</th>\n",
       "      <th>end_station_name</th>\n",
       "      <th>end_station_latitude</th>\n",
       "      <th>...</th>\n",
       "      <th>user_type</th>\n",
       "      <th>member_birth_year</th>\n",
       "      <th>member_gender</th>\n",
       "      <th>month</th>\n",
       "      <th>day</th>\n",
       "      <th>year</th>\n",
       "      <th>str_month_no</th>\n",
       "      <th>start_hour</th>\n",
       "      <th>end_hour</th>\n",
       "      <th>duration_min</th>\n",
       "    </tr>\n",
       "  </thead>\n",
       "  <tbody>\n",
       "    <tr>\n",
       "      <th>0</th>\n",
       "      <td>75284</td>\n",
       "      <td>2018-01-31 22:52:35.239</td>\n",
       "      <td>2018-02-01 19:47:19.824</td>\n",
       "      <td>120.0</td>\n",
       "      <td>Mission Dolores Park</td>\n",
       "      <td>37.761420</td>\n",
       "      <td>-122.426435</td>\n",
       "      <td>285.0</td>\n",
       "      <td>Webster St at O'Farrell St</td>\n",
       "      <td>37.783521</td>\n",
       "      <td>...</td>\n",
       "      <td>Subscriber</td>\n",
       "      <td>1986.0</td>\n",
       "      <td>Male</td>\n",
       "      <td>Jan</td>\n",
       "      <td>Wed</td>\n",
       "      <td>2018</td>\n",
       "      <td>1</td>\n",
       "      <td>22</td>\n",
       "      <td>19</td>\n",
       "      <td>1254.733333</td>\n",
       "    </tr>\n",
       "    <tr>\n",
       "      <th>2</th>\n",
       "      <td>71576</td>\n",
       "      <td>2018-01-31 14:23:55.889</td>\n",
       "      <td>2018-02-01 10:16:52.116</td>\n",
       "      <td>304.0</td>\n",
       "      <td>Jackson St at 5th St</td>\n",
       "      <td>37.348759</td>\n",
       "      <td>-121.894798</td>\n",
       "      <td>296.0</td>\n",
       "      <td>5th St at Virginia St</td>\n",
       "      <td>37.325998</td>\n",
       "      <td>...</td>\n",
       "      <td>Customer</td>\n",
       "      <td>1996.0</td>\n",
       "      <td>Male</td>\n",
       "      <td>Jan</td>\n",
       "      <td>Wed</td>\n",
       "      <td>2018</td>\n",
       "      <td>1</td>\n",
       "      <td>14</td>\n",
       "      <td>10</td>\n",
       "      <td>1192.933333</td>\n",
       "    </tr>\n",
       "    <tr>\n",
       "      <th>4</th>\n",
       "      <td>39966</td>\n",
       "      <td>2018-01-31 19:52:24.667</td>\n",
       "      <td>2018-02-01 06:58:31.053</td>\n",
       "      <td>74.0</td>\n",
       "      <td>Laguna St at Hayes St</td>\n",
       "      <td>37.776435</td>\n",
       "      <td>-122.426244</td>\n",
       "      <td>19.0</td>\n",
       "      <td>Post St at Kearny St</td>\n",
       "      <td>37.788975</td>\n",
       "      <td>...</td>\n",
       "      <td>Subscriber</td>\n",
       "      <td>1991.0</td>\n",
       "      <td>Male</td>\n",
       "      <td>Jan</td>\n",
       "      <td>Wed</td>\n",
       "      <td>2018</td>\n",
       "      <td>1</td>\n",
       "      <td>19</td>\n",
       "      <td>6</td>\n",
       "      <td>666.100000</td>\n",
       "    </tr>\n",
       "  </tbody>\n",
       "</table>\n",
       "<p>3 rows × 22 columns</p>\n",
       "</div>"
      ],
      "text/plain": [
       "   duration_sec              start_time                end_time  \\\n",
       "0         75284 2018-01-31 22:52:35.239 2018-02-01 19:47:19.824   \n",
       "2         71576 2018-01-31 14:23:55.889 2018-02-01 10:16:52.116   \n",
       "4         39966 2018-01-31 19:52:24.667 2018-02-01 06:58:31.053   \n",
       "\n",
       "   start_station_id     start_station_name  start_station_latitude  \\\n",
       "0             120.0   Mission Dolores Park               37.761420   \n",
       "2             304.0   Jackson St at 5th St               37.348759   \n",
       "4              74.0  Laguna St at Hayes St               37.776435   \n",
       "\n",
       "   start_station_longitude  end_station_id            end_station_name  \\\n",
       "0              -122.426435           285.0  Webster St at O'Farrell St   \n",
       "2              -121.894798           296.0       5th St at Virginia St   \n",
       "4              -122.426244            19.0        Post St at Kearny St   \n",
       "\n",
       "   end_station_latitude      ...        user_type  member_birth_year  \\\n",
       "0             37.783521      ...       Subscriber             1986.0   \n",
       "2             37.325998      ...         Customer             1996.0   \n",
       "4             37.788975      ...       Subscriber             1991.0   \n",
       "\n",
       "  member_gender  month  day  year str_month_no  start_hour  end_hour  \\\n",
       "0          Male    Jan  Wed  2018            1          22        19   \n",
       "2          Male    Jan  Wed  2018            1          14        10   \n",
       "4          Male    Jan  Wed  2018            1          19         6   \n",
       "\n",
       "   duration_min  \n",
       "0   1254.733333  \n",
       "2   1192.933333  \n",
       "4    666.100000  \n",
       "\n",
       "[3 rows x 22 columns]"
      ]
     },
     "execution_count": 30,
     "metadata": {},
     "output_type": "execute_result"
    }
   ],
   "source": [
    "#see first three rows to observe the changes\n",
    "df.head(3)"
   ]
  },
  {
   "cell_type": "code",
   "execution_count": 31,
   "metadata": {},
   "outputs": [],
   "source": [
    "# A function to find whether the day is weekend or not\n",
    "def find_weekend (df_column):\n",
    "    \n",
    "    \"\"\" This function takes the day column of a dataframe as an input and determine whether it is weeekend or not as an output.\n",
    "    Saturday and Sunday will be marked as the Weekend while other days will be Weekdays\"\"\"\n",
    "    \n",
    "    if df_column == 'Sat':\n",
    "        return 'Weekend'\n",
    "    elif df_column == 'Sun':\n",
    "        return 'Weekend'\n",
    "    else:\n",
    "        return 'Weekday'"
   ]
  },
  {
   "cell_type": "code",
   "execution_count": 32,
   "metadata": {},
   "outputs": [],
   "source": [
    "# Applying the find_weekend function to the dataframe\n",
    "df['day_type'] = df['day'].apply(find_weekend)"
   ]
  },
  {
   "cell_type": "code",
   "execution_count": 33,
   "metadata": {},
   "outputs": [],
   "source": [
    "#Calculating age in age at the day of the journey\n",
    "df['age'] = df['year']-df['member_birth_year'].astype(int)"
   ]
  },
  {
   "cell_type": "markdown",
   "metadata": {},
   "source": [
    "**5.Note:** From the source [3], it can be seen the the San Francisco bay area has four seasons in the year. Hence, the Seasons information will now be extracted from the dataset.\n",
    "\n",
    "**Season-1.Summer**: June to August\n",
    "\n",
    "**Season-2.Autumn**: September to November\n",
    "\n",
    "**Season-3.Winter**: December to February\n",
    "\n",
    "**Season-4.Spring**: March to May\n"
   ]
  },
  {
   "cell_type": "code",
   "execution_count": 34,
   "metadata": {},
   "outputs": [],
   "source": [
    "def find_season (df_column):\n",
    "    \n",
    "    \"\"\" This function takes the month number column of a dataframe as an input and determine the season.\"\"\"\n",
    "    \n",
    "    if df_column >5 and df_column <9:\n",
    "        return 'Summer'\n",
    "    \n",
    "    elif df_column >8 and df_column <12:\n",
    "        return 'Autumn'\n",
    "    \n",
    "    elif df_column >2 and df_column <6:\n",
    "        return 'Spring'\n",
    "\n",
    "    else:\n",
    "        return 'Winter'"
   ]
  },
  {
   "cell_type": "code",
   "execution_count": 35,
   "metadata": {},
   "outputs": [
    {
     "data": {
      "text/plain": [
       "array(['Winter', 'Spring', 'Summer', 'Autumn'], dtype=object)"
      ]
     },
     "execution_count": 35,
     "metadata": {},
     "output_type": "execute_result"
    }
   ],
   "source": [
    "# Applying the find_weekend function to the dataframe\n",
    "df['season']= df['str_month_no'].apply(find_season)\n",
    "\n",
    "# Find the number of unique Seasons- should return the four season\n",
    "df['season'].unique()"
   ]
  },
  {
   "cell_type": "code",
   "execution_count": 36,
   "metadata": {},
   "outputs": [
    {
     "data": {
      "text/html": [
       "<div>\n",
       "<style scoped>\n",
       "    .dataframe tbody tr th:only-of-type {\n",
       "        vertical-align: middle;\n",
       "    }\n",
       "\n",
       "    .dataframe tbody tr th {\n",
       "        vertical-align: top;\n",
       "    }\n",
       "\n",
       "    .dataframe thead th {\n",
       "        text-align: right;\n",
       "    }\n",
       "</style>\n",
       "<table border=\"1\" class=\"dataframe\">\n",
       "  <thead>\n",
       "    <tr style=\"text-align: right;\">\n",
       "      <th></th>\n",
       "      <th>duration_sec</th>\n",
       "      <th>start_time</th>\n",
       "      <th>end_time</th>\n",
       "      <th>start_station_id</th>\n",
       "      <th>start_station_name</th>\n",
       "      <th>start_station_latitude</th>\n",
       "      <th>start_station_longitude</th>\n",
       "      <th>end_station_id</th>\n",
       "      <th>end_station_name</th>\n",
       "      <th>end_station_latitude</th>\n",
       "      <th>...</th>\n",
       "      <th>month</th>\n",
       "      <th>day</th>\n",
       "      <th>year</th>\n",
       "      <th>str_month_no</th>\n",
       "      <th>start_hour</th>\n",
       "      <th>end_hour</th>\n",
       "      <th>duration_min</th>\n",
       "      <th>day_type</th>\n",
       "      <th>age</th>\n",
       "      <th>season</th>\n",
       "    </tr>\n",
       "  </thead>\n",
       "  <tbody>\n",
       "    <tr>\n",
       "      <th>0</th>\n",
       "      <td>75284</td>\n",
       "      <td>2018-01-31 22:52:35.239</td>\n",
       "      <td>2018-02-01 19:47:19.824</td>\n",
       "      <td>120.0</td>\n",
       "      <td>Mission Dolores Park</td>\n",
       "      <td>37.761420</td>\n",
       "      <td>-122.426435</td>\n",
       "      <td>285.0</td>\n",
       "      <td>Webster St at O'Farrell St</td>\n",
       "      <td>37.783521</td>\n",
       "      <td>...</td>\n",
       "      <td>Jan</td>\n",
       "      <td>Wed</td>\n",
       "      <td>2018</td>\n",
       "      <td>1</td>\n",
       "      <td>22</td>\n",
       "      <td>19</td>\n",
       "      <td>1254.733333</td>\n",
       "      <td>Weekday</td>\n",
       "      <td>32</td>\n",
       "      <td>Winter</td>\n",
       "    </tr>\n",
       "    <tr>\n",
       "      <th>2</th>\n",
       "      <td>71576</td>\n",
       "      <td>2018-01-31 14:23:55.889</td>\n",
       "      <td>2018-02-01 10:16:52.116</td>\n",
       "      <td>304.0</td>\n",
       "      <td>Jackson St at 5th St</td>\n",
       "      <td>37.348759</td>\n",
       "      <td>-121.894798</td>\n",
       "      <td>296.0</td>\n",
       "      <td>5th St at Virginia St</td>\n",
       "      <td>37.325998</td>\n",
       "      <td>...</td>\n",
       "      <td>Jan</td>\n",
       "      <td>Wed</td>\n",
       "      <td>2018</td>\n",
       "      <td>1</td>\n",
       "      <td>14</td>\n",
       "      <td>10</td>\n",
       "      <td>1192.933333</td>\n",
       "      <td>Weekday</td>\n",
       "      <td>22</td>\n",
       "      <td>Winter</td>\n",
       "    </tr>\n",
       "    <tr>\n",
       "      <th>4</th>\n",
       "      <td>39966</td>\n",
       "      <td>2018-01-31 19:52:24.667</td>\n",
       "      <td>2018-02-01 06:58:31.053</td>\n",
       "      <td>74.0</td>\n",
       "      <td>Laguna St at Hayes St</td>\n",
       "      <td>37.776435</td>\n",
       "      <td>-122.426244</td>\n",
       "      <td>19.0</td>\n",
       "      <td>Post St at Kearny St</td>\n",
       "      <td>37.788975</td>\n",
       "      <td>...</td>\n",
       "      <td>Jan</td>\n",
       "      <td>Wed</td>\n",
       "      <td>2018</td>\n",
       "      <td>1</td>\n",
       "      <td>19</td>\n",
       "      <td>6</td>\n",
       "      <td>666.100000</td>\n",
       "      <td>Weekday</td>\n",
       "      <td>27</td>\n",
       "      <td>Winter</td>\n",
       "    </tr>\n",
       "  </tbody>\n",
       "</table>\n",
       "<p>3 rows × 25 columns</p>\n",
       "</div>"
      ],
      "text/plain": [
       "   duration_sec              start_time                end_time  \\\n",
       "0         75284 2018-01-31 22:52:35.239 2018-02-01 19:47:19.824   \n",
       "2         71576 2018-01-31 14:23:55.889 2018-02-01 10:16:52.116   \n",
       "4         39966 2018-01-31 19:52:24.667 2018-02-01 06:58:31.053   \n",
       "\n",
       "   start_station_id     start_station_name  start_station_latitude  \\\n",
       "0             120.0   Mission Dolores Park               37.761420   \n",
       "2             304.0   Jackson St at 5th St               37.348759   \n",
       "4              74.0  Laguna St at Hayes St               37.776435   \n",
       "\n",
       "   start_station_longitude  end_station_id            end_station_name  \\\n",
       "0              -122.426435           285.0  Webster St at O'Farrell St   \n",
       "2              -121.894798           296.0       5th St at Virginia St   \n",
       "4              -122.426244            19.0        Post St at Kearny St   \n",
       "\n",
       "   end_station_latitude   ...    month  day  year  str_month_no start_hour  \\\n",
       "0             37.783521   ...      Jan  Wed  2018             1         22   \n",
       "2             37.325998   ...      Jan  Wed  2018             1         14   \n",
       "4             37.788975   ...      Jan  Wed  2018             1         19   \n",
       "\n",
       "  end_hour duration_min  day_type  age  season  \n",
       "0       19  1254.733333   Weekday   32  Winter  \n",
       "2       10  1192.933333   Weekday   22  Winter  \n",
       "4        6   666.100000   Weekday   27  Winter  \n",
       "\n",
       "[3 rows x 25 columns]"
      ]
     },
     "execution_count": 36,
     "metadata": {},
     "output_type": "execute_result"
    }
   ],
   "source": [
    "#see first three rows to observe the changes of day_type and age\n",
    "df.head(3)"
   ]
  },
  {
   "cell_type": "markdown",
   "metadata": {},
   "source": [
    "**6.Note: We need to calculate the distance travelled which can be obtained from the information of Longitude and Latitude. For that, we need to import a new library. The code to calculate the distance is taken from Ref-4.**\n"
   ]
  },
  {
   "cell_type": "code",
   "execution_count": 37,
   "metadata": {},
   "outputs": [],
   "source": [
    "from geopy.distance import vincenty\n",
    "def distance_calc (row):\n",
    "    \"this function calculate the distance between the starting and the ending station from the information\" \n",
    "    \"of longitude and laitude and returns the distance in meters and then divided by 1000 gives kilometers.\"\n",
    "    start = (row['start_station_latitude'], row['start_station_longitude'])\n",
    "    stop = (row['end_station_latitude'], row['end_station_longitude'])\n",
    "\n",
    "    return vincenty(start, stop).meters/1000"
   ]
  },
  {
   "cell_type": "code",
   "execution_count": 38,
   "metadata": {},
   "outputs": [],
   "source": [
    "#apply function to the dataframe calculate distance\n",
    "df['distance'] = df.apply (lambda row: distance_calc (row),axis=1)"
   ]
  },
  {
   "cell_type": "code",
   "execution_count": 39,
   "metadata": {},
   "outputs": [
    {
     "data": {
      "text/html": [
       "<div>\n",
       "<style scoped>\n",
       "    .dataframe tbody tr th:only-of-type {\n",
       "        vertical-align: middle;\n",
       "    }\n",
       "\n",
       "    .dataframe tbody tr th {\n",
       "        vertical-align: top;\n",
       "    }\n",
       "\n",
       "    .dataframe thead th {\n",
       "        text-align: right;\n",
       "    }\n",
       "</style>\n",
       "<table border=\"1\" class=\"dataframe\">\n",
       "  <thead>\n",
       "    <tr style=\"text-align: right;\">\n",
       "      <th></th>\n",
       "      <th>duration_sec</th>\n",
       "      <th>start_time</th>\n",
       "      <th>end_time</th>\n",
       "      <th>start_station_id</th>\n",
       "      <th>start_station_name</th>\n",
       "      <th>start_station_latitude</th>\n",
       "      <th>start_station_longitude</th>\n",
       "      <th>end_station_id</th>\n",
       "      <th>end_station_name</th>\n",
       "      <th>end_station_latitude</th>\n",
       "      <th>...</th>\n",
       "      <th>day</th>\n",
       "      <th>year</th>\n",
       "      <th>str_month_no</th>\n",
       "      <th>start_hour</th>\n",
       "      <th>end_hour</th>\n",
       "      <th>duration_min</th>\n",
       "      <th>day_type</th>\n",
       "      <th>age</th>\n",
       "      <th>season</th>\n",
       "      <th>distance</th>\n",
       "    </tr>\n",
       "  </thead>\n",
       "  <tbody>\n",
       "    <tr>\n",
       "      <th>97</th>\n",
       "      <td>738</td>\n",
       "      <td>2018-01-31 21:48:35.704</td>\n",
       "      <td>2018-01-31 22:00:54.703</td>\n",
       "      <td>93.0</td>\n",
       "      <td>4th St at Mission Bay Blvd S</td>\n",
       "      <td>37.770407</td>\n",
       "      <td>-122.391198</td>\n",
       "      <td>93.0</td>\n",
       "      <td>4th St at Mission Bay Blvd S</td>\n",
       "      <td>37.770407</td>\n",
       "      <td>...</td>\n",
       "      <td>Wed</td>\n",
       "      <td>2018</td>\n",
       "      <td>1</td>\n",
       "      <td>21</td>\n",
       "      <td>22</td>\n",
       "      <td>12.300000</td>\n",
       "      <td>Weekday</td>\n",
       "      <td>33</td>\n",
       "      <td>Winter</td>\n",
       "      <td>0.0</td>\n",
       "    </tr>\n",
       "    <tr>\n",
       "      <th>230</th>\n",
       "      <td>2023</td>\n",
       "      <td>2018-01-31 20:25:05.189</td>\n",
       "      <td>2018-01-31 20:58:48.830</td>\n",
       "      <td>311.0</td>\n",
       "      <td>Paseo De San Antonio at 2nd St</td>\n",
       "      <td>37.333798</td>\n",
       "      <td>-121.886943</td>\n",
       "      <td>311.0</td>\n",
       "      <td>Paseo De San Antonio at 2nd St</td>\n",
       "      <td>37.333798</td>\n",
       "      <td>...</td>\n",
       "      <td>Wed</td>\n",
       "      <td>2018</td>\n",
       "      <td>1</td>\n",
       "      <td>20</td>\n",
       "      <td>20</td>\n",
       "      <td>33.716667</td>\n",
       "      <td>Weekday</td>\n",
       "      <td>25</td>\n",
       "      <td>Winter</td>\n",
       "      <td>0.0</td>\n",
       "    </tr>\n",
       "    <tr>\n",
       "      <th>239</th>\n",
       "      <td>947</td>\n",
       "      <td>2018-01-31 20:39:07.038</td>\n",
       "      <td>2018-01-31 20:54:54.608</td>\n",
       "      <td>259.0</td>\n",
       "      <td>Addison St at Fourth St</td>\n",
       "      <td>37.866249</td>\n",
       "      <td>-122.299371</td>\n",
       "      <td>259.0</td>\n",
       "      <td>Addison St at Fourth St</td>\n",
       "      <td>37.866249</td>\n",
       "      <td>...</td>\n",
       "      <td>Wed</td>\n",
       "      <td>2018</td>\n",
       "      <td>1</td>\n",
       "      <td>20</td>\n",
       "      <td>20</td>\n",
       "      <td>15.783333</td>\n",
       "      <td>Weekday</td>\n",
       "      <td>59</td>\n",
       "      <td>Winter</td>\n",
       "      <td>0.0</td>\n",
       "    </tr>\n",
       "  </tbody>\n",
       "</table>\n",
       "<p>3 rows × 26 columns</p>\n",
       "</div>"
      ],
      "text/plain": [
       "     duration_sec              start_time                end_time  \\\n",
       "97            738 2018-01-31 21:48:35.704 2018-01-31 22:00:54.703   \n",
       "230          2023 2018-01-31 20:25:05.189 2018-01-31 20:58:48.830   \n",
       "239           947 2018-01-31 20:39:07.038 2018-01-31 20:54:54.608   \n",
       "\n",
       "     start_station_id              start_station_name  start_station_latitude  \\\n",
       "97               93.0    4th St at Mission Bay Blvd S               37.770407   \n",
       "230             311.0  Paseo De San Antonio at 2nd St               37.333798   \n",
       "239             259.0         Addison St at Fourth St               37.866249   \n",
       "\n",
       "     start_station_longitude  end_station_id                end_station_name  \\\n",
       "97               -122.391198            93.0    4th St at Mission Bay Blvd S   \n",
       "230              -121.886943           311.0  Paseo De San Antonio at 2nd St   \n",
       "239              -122.299371           259.0         Addison St at Fourth St   \n",
       "\n",
       "     end_station_latitude    ...     day  year str_month_no  start_hour  \\\n",
       "97              37.770407    ...     Wed  2018            1          21   \n",
       "230             37.333798    ...     Wed  2018            1          20   \n",
       "239             37.866249    ...     Wed  2018            1          20   \n",
       "\n",
       "    end_hour duration_min day_type  age  season  distance  \n",
       "97        22    12.300000  Weekday   33  Winter       0.0  \n",
       "230       20    33.716667  Weekday   25  Winter       0.0  \n",
       "239       20    15.783333  Weekday   59  Winter       0.0  \n",
       "\n",
       "[3 rows x 26 columns]"
      ]
     },
     "execution_count": 39,
     "metadata": {},
     "output_type": "execute_result"
    }
   ],
   "source": [
    "#Checking rows with 0 values for distance.\n",
    "df.query(\"distance==0\").head(3)"
   ]
  },
  {
   "cell_type": "code",
   "execution_count": 40,
   "metadata": {},
   "outputs": [
    {
     "data": {
      "text/plain": [
       "39654"
      ]
     },
     "execution_count": 40,
     "metadata": {},
     "output_type": "execute_result"
    }
   ],
   "source": [
    "#Number of rows with 0 distance values\n",
    "df.query(\"distance==0\").count().distance"
   ]
  },
  {
   "cell_type": "markdown",
   "metadata": {},
   "source": [
    "**7. Note:We can see thre are rows with 0 distance. We will exculde these rowss during our encounter with distance.**"
   ]
  },
  {
   "cell_type": "code",
   "execution_count": 41,
   "metadata": {},
   "outputs": [
    {
     "data": {
      "text/plain": [
       "(1651156, 26)"
      ]
     },
     "execution_count": 41,
     "metadata": {},
     "output_type": "execute_result"
    }
   ],
   "source": [
    "#shape of the dataset\n",
    "df.shape"
   ]
  },
  {
   "cell_type": "code",
   "execution_count": 42,
   "metadata": {},
   "outputs": [
    {
     "name": "stdout",
     "output_type": "stream",
     "text": [
      "<class 'pandas.core.frame.DataFrame'>\n",
      "Int64Index: 1651156 entries, 0 to 86546\n",
      "Data columns (total 26 columns):\n",
      "duration_sec               1651156 non-null int64\n",
      "start_time                 1651156 non-null datetime64[ns]\n",
      "end_time                   1651156 non-null datetime64[ns]\n",
      "start_station_id           1651156 non-null float64\n",
      "start_station_name         1651156 non-null object\n",
      "start_station_latitude     1651156 non-null float64\n",
      "start_station_longitude    1651156 non-null float64\n",
      "end_station_id             1651156 non-null float64\n",
      "end_station_name           1651156 non-null object\n",
      "end_station_latitude       1651156 non-null float64\n",
      "end_station_longitude      1651156 non-null float64\n",
      "bike_id                    1651156 non-null int64\n",
      "user_type                  1651156 non-null object\n",
      "member_birth_year          1651156 non-null float64\n",
      "member_gender              1651156 non-null object\n",
      "month                      1651156 non-null object\n",
      "day                        1651156 non-null object\n",
      "year                       1651156 non-null int64\n",
      "str_month_no               1651156 non-null int32\n",
      "start_hour                 1651156 non-null int32\n",
      "end_hour                   1651156 non-null int32\n",
      "duration_min               1651156 non-null float64\n",
      "day_type                   1651156 non-null object\n",
      "age                        1651156 non-null int64\n",
      "season                     1651156 non-null object\n",
      "distance                   1651156 non-null float64\n",
      "dtypes: datetime64[ns](2), float64(9), int32(3), int64(4), object(8)\n",
      "memory usage: 321.2+ MB\n"
     ]
    }
   ],
   "source": [
    "#data type information and non-null values\n",
    "df.info()"
   ]
  },
  {
   "cell_type": "code",
   "execution_count": 43,
   "metadata": {},
   "outputs": [
    {
     "name": "stdout",
     "output_type": "stream",
     "text": [
      "Stored 'df' (DataFrame)\n"
     ]
    }
   ],
   "source": [
    "# Store the dataset\n",
    "%store df"
   ]
  },
  {
   "cell_type": "markdown",
   "metadata": {},
   "source": [
    "## 2. Dataset Overview\n",
    "\n",
    "\n",
    "### A. What is the structure of this dataset?\n",
    "\n",
    "The data consists of the biking information of 1.65 million instances from Nov 2017-Sep 2018. From the starting time, different aspects of time like- hour, duration, whether the day is weekend or not has been extracted. Also from the longitude and latitude, the distance of the journey has been calculated. At this point, There are 26 features in the dataset out of which 8 are string values as can be seen from the summary information. \n",
    "\n",
    "The qualitative variables provide information about the start station name, end station_name, gender of the rider, and user type- Customer or a Subscriber, longitude and latitude of the starting and ending station and the month when the journey started. \n",
    "\n",
    "\n",
    "### B. What is/are the main feature(s) of interest in the dataset?\n",
    "\n",
    "I'm most interested in figuring out the main characteristics of the bikers, and the variation between the user types, age and gender groups across various time of the year.  I will investigate the dataset for their riding patterns in terms of distance and duration covered during the journey to find out the important features.\n",
    "\n",
    "\n",
    "\n",
    "### C. What features in the dataset do you think will help support your investigation into your feature(s) of interest?\n",
    "\n",
    "Age, distance, duration, starting and ending stations are be the most interesting features of the dataset for me. \n",
    "\n",
    "To perform the analysis, I will divide the age, distance and duration data into different categories related to gender-Male, Female or other type, age group, and user type-customers or subscribers. Finally, I will find the busiest routes of biking from the starting and ending stations. Based on the analysis, I will make specific recommendations that will be used during the targeted campaign.\n",
    "\n",
    "### D. Univariate, Bivariate and Multivariate Exploration\n",
    "\n",
    "Instead of exploring all the univeraiate, Bivariate and Multivariate variables all at once, I will analyze the univariate variables like user type, age, gender, duration, starting and ending stations in each section of the analysis. Time to time, I will show the relationship between the vriables such as- the age of the gender group, age of the users, distance and duration per user group in various days etc. to explore the bivariate and multivariate relations. This in my opinion makes the story more co-herent and interesting.\n"
   ]
  },
  {
   "cell_type": "markdown",
   "metadata": {},
   "source": [
    "**8.Note: After this primary wrangling, now the dataset is ready to be explored. However, we will continue to wrangle the dataset as needed.**"
   ]
  },
  {
   "cell_type": "markdown",
   "metadata": {},
   "source": [
    "## Ref:\n",
    "\n",
    "[1] Bicycle Accident Statistics available at: https://bicycleinjurylawfirm.com/california-bicycle-accident-statistics/\n",
    "\n",
    "[2] Bay Area’s dangerous roads: Fatal crashes up 43 percent from 2010 to 2016 available at: https://goo.gl/uWtbdk\n",
    "\n",
    "\n",
    "[3]. San Francisco Weather Guide available at: https://www.studentflights.com.au/destinations/san-francisco/weather\n",
    "\n",
    "[4]. Calcute Distance Between two points: https://stackoverflow.com/questions/44446862/calculate-distance-between-latitude-and-longitude-in-dataframe"
   ]
  },
  {
   "cell_type": "code",
   "execution_count": null,
   "metadata": {},
   "outputs": [],
   "source": []
  }
 ],
 "metadata": {
  "kernelspec": {
   "display_name": "Python 3 (ipykernel)",
   "language": "python",
   "name": "python3"
  },
  "language_info": {
   "codemirror_mode": {
    "name": "ipython",
    "version": 3
   },
   "file_extension": ".py",
   "mimetype": "text/x-python",
   "name": "python",
   "nbconvert_exporter": "python",
   "pygments_lexer": "ipython3",
   "version": "3.9.12"
  }
 },
 "nbformat": 4,
 "nbformat_minor": 2
}
